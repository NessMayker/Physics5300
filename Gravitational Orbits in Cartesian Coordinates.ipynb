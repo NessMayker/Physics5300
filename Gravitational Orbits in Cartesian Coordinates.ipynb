{
 "cells": [
  {
   "cell_type": "markdown",
   "metadata": {},
   "source": [
    "# Final Problem Set for Physics 5300 \n"
   ]
  },
  {
   "cell_type": "markdown",
   "metadata": {},
   "source": [
    "## Gravitational Orbits in Cartesian Coordinates\n",
    "\n",
    "Solves the two body problem for gravitational attraction between two bodies in Cartesian Coordinates. \n",
    "\n",
    "* Last revised 16-Apr-2019 by Ness Mayker (mayker.1@osu.edu).\n"
   ]
  },
  {
   "cell_type": "markdown",
   "metadata": {},
   "source": [
    "## Kinetic Energy\n",
    "\n",
    "For a two body gravitationally bound system, the kinetic energy (T) is\n",
    "\n",
    "$\\begin{align}\n",
    "  T = \\frac12 m_1(\\dot x_1^2+\\dot y_1^2)+\\frac12 m_2(\\dot x_2^2+\\dot y_2^2)\n",
    "\\end{align}$\n",
    "\n",
    "## Potential Energy\n",
    "\n",
    "The potential energy (U) is\n",
    "\n",
    "$\\begin{align}\n",
    "  U(r) = \\frac{-Gm_1m_2}{r}          \n",
    "\\end{align}$\n",
    "\n",
    "  where $r = ((x_2-x_1)^2+(y_2-y_1)^2)^\\frac12$\n"
   ]
  },
  {
   "cell_type": "markdown",
   "metadata": {},
   "source": [
    "## Lagrangian\n",
    "\n",
    "For a two-body, gravitationally-bound system, the Lagrangian in cartesian coordinates is:\n",
    "\n",
    "$\\begin{align}\n",
    "  \\mathcal{L} = \\frac12 m_1(\\dot x_1^2+\\dot y_1^2)+\\frac12 m_2(\\dot x_2^2+\\dot y_2^2)+\\frac{Gm_1m_2}{((x_2-x_1)^2+(y_2-y_1)^2)^{1/2}}\n",
    "\\end{align}$\n",
    "\n",
    "## Euler-Lagrange equations\n",
    "\n",
    "The Euler-Lagrange equations are\n",
    "\n",
    "$\\begin{align}\n",
    " \\frac{d}{dt}\\frac{\\partial\\mathcal{L}}{\\partial \\dot x_1} = \\frac{\\partial\\mathcal L}{\\partial x_1}\n",
    " \\quad\\Longrightarrow\\quad\n",
    " m_1\\ddot x_1 = \\frac{-Gm_1m_2(x_1-x_2)}{((x_2-x_1)^2+(y_2-y_1)^2)^{3/2}}\n",
    "  \\;.\n",
    "\\end{align}$\n",
    "\n",
    "$\\begin{align}\n",
    " \\frac{d}{dt}\\frac{\\partial\\mathcal{L}}{\\partial \\dot x_2} = \\frac{\\partial\\mathcal L}{\\partial x_2}\n",
    " \\quad\\Longrightarrow\\quad\n",
    " m_2\\ddot x_2 = \\frac{-Gm_1m_2(x_2-x_1)}{((x_2-x_1)^2+(y_2-y_1)^2)^{3/2}}\n",
    "  \\;.\n",
    "\\end{align}$\n",
    "\n",
    "$\\begin{align}\n",
    " \\frac{d}{dt}\\frac{\\partial\\mathcal{L}}{\\partial \\dot y_1} = \\frac{\\partial\\mathcal L}{\\partial y_1}\n",
    " \\quad\\Longrightarrow\\quad\n",
    " m_1\\ddot y_1 = \\frac{-Gm_1m_2(y_1-y_2)}{((x_2-x_1)^2+(y_2-y_1)^2)^{3/2}}\n",
    "  \\;.\n",
    "\\end{align}$\n",
    "\n",
    "$\\begin{align}\n",
    " \\frac{d}{dt}\\frac{\\partial\\mathcal{L}}{\\partial \\dot y_2} = \\frac{\\partial\\mathcal L}{\\partial y_2}\n",
    " \\quad\\Longrightarrow\\quad\n",
    " m_2\\ddot y_2 = \\frac{-Gm_1m_2(y_2-y_1)}{((x_2-x_1)^2+(y_2-y_1)^2)^{3/2}}\n",
    "  \\;.\n",
    "\\end{align}$"
   ]
  },
  {
   "cell_type": "markdown",
   "metadata": {},
   "source": [
    "The equations of motion are\n",
    "\n",
    "$\\begin{align}\n",
    " \\ddot x_1 = \\frac{-Gm_2(x_1-x_2)}{((x_2-x_1)^2+(y_2-y_1)^2)^{3/2}}\n",
    "  \\;.\n",
    "\\end{align}$\n",
    "\n",
    "$\\begin{align}\n",
    " \\ddot x_2 = \\frac{-Gm_1(x_2-x_1)}{((x_2-x_1)^2+(y_2-y_1)^2)^{3/2}}\n",
    "  \\;.\n",
    "\\end{align}$\n",
    "\n",
    "$\\begin{align}\n",
    " \\ddot y_1 = \\frac{-Gm_2(y_1-y_2)}{((x_2-x_1)^2+(y_2-y_1)^2)^{3/2}}\n",
    "  \\;.\n",
    "\\end{align}$\n",
    "\n",
    "$\\begin{align}\n",
    " \\ddot y_2 = \\frac{-Gm_1(y_2-y_1)}{((x_2-x_1)^2+(y_2-y_1)^2)^{3/2}}\n",
    "  \\;.\n",
    "\\end{align}$"
   ]
  },
  {
   "cell_type": "code",
   "execution_count": 1,
   "metadata": {},
   "outputs": [],
   "source": [
    "%matplotlib inline\n",
    "\n",
    "import numpy as np\n",
    "from scipy.integrate import odeint, solve_ivp\n",
    "\n",
    "import matplotlib.pyplot as plt\n",
    "\n",
    "from matplotlib import animation, rc\n",
    "from IPython.display import HTML\n",
    "\n",
    "# The dpi (dots-per-inch) setting will affect the resolution and how large\n",
    "#  the plots appear on screen and printed.  So you may want/need to adjust \n",
    "#  the figsize when creating the figure.\n",
    "plt.rcParams['figure.dpi'] = 100.    # this is the default for notebook\n",
    "\n",
    "# Change the common font size (smaller when higher dpi)\n",
    "font_size = 10\n",
    "plt.rcParams.update({'font.size': font_size})"
   ]
  },
  {
   "cell_type": "markdown",
   "metadata": {},
   "source": [
    "### Orbit Class & Utility Functions"
   ]
  },
  {
   "cell_type": "code",
   "execution_count": 2,
   "metadata": {},
   "outputs": [],
   "source": [
    "class Orbit():\n",
    "    \"\"\"\n",
    "    Orbit class implements the parameters and Lagrangian equations for \n",
    "     a two body gravitational orbit.\n",
    "\n",
    "    Parameters\n",
    "    ----------\n",
    "\n",
    "    m1 : float\n",
    "        mass of first body\n",
    "    m2 : float\n",
    "        mass of second body\n",
    "    G : float\n",
    "        gravitational constant\n",
    "\n",
    "    Methods\n",
    "    -------\n",
    "    dz_dt(t, z)\n",
    "        Returns the right side of the differential equation in vector z, \n",
    "        given time t and the corresponding value of z.\n",
    "    \"\"\"\n",
    "    def __init__(self, m1=1., m2=10., G=1.,\n",
    "                ):\n",
    "        self.m1 = m1\n",
    "        self.m2 = m2\n",
    "        self.G  = G\n",
    "    \n",
    "    def dz_dt(self, t, z):\n",
    "        \"\"\"\n",
    "        Parameters\n",
    "        ----------\n",
    "        t : float\n",
    "            time \n",
    "        z : float\n",
    "            An 8-component vector with \n",
    "            z[0] = x_1(t), z[1] = dx_1/dt, z[2] = x_2(t), z[3] = dx_2/dt, \n",
    "            z[4] = y_1(t), z[5] = dy_1/dt, z[6] = y_2(t), z[7] = dy_2/dt,            \n",
    "        Returns the right-hand side of the diffeq: \n",
    "        [dx_1/dt, dx_1^2/dt^2, dx_2/dt, dx_2^2/dt^2, dy_1/dt, dy_1^2/dt^2, dy_2/dt, dy_2^2/dt^2]\n",
    "        -------\n",
    "        \"\"\"\n",
    "        x1    = z[0]\n",
    "        x2    = z[2]\n",
    "        y1    = z[4]\n",
    "        y2    = z[6]\n",
    "        x1dot = z[1]\n",
    "        x2dot = z[3]\n",
    "        y1dot = z[5]\n",
    "        y2dot = z[7]\n",
    "        m1 = self.m1 \n",
    "        m2 = self.m2 \n",
    "        G  = self.G\n",
    "        \n",
    "        r = np.sqrt((x2-x1)**2 + (y2-y1)**2)\n",
    "                   \n",
    "        x1ddot = -G * m2 * (x1-x2) / r**(3)\n",
    "        x2ddot = -G * m1 * (x2-x1) / r**(3)\n",
    "        y1ddot = -G * m2 * (y1-y2) / r**(3)\n",
    "        y2ddot = -G * m1 * (y2-y1) / r**(3)\n",
    "        \n",
    "        return [z[1], x1ddot, z[3], x2ddot, z[5], y1ddot, z[7], y2ddot]\n",
    "    \n",
    "    def solve_ode(self, t_pts, x1_0, x1dot_0, x2_0, x2dot_0, y1_0, y1dot_0, y2_0, y2dot_0, \n",
    "                  abserr=1.0e-9, relerr=1.0e-9):\n",
    "        \"\"\"\n",
    "        Solve the ODE using solve_ivp given initial conditions.\n",
    "        Specify smaller abserr and relerr to get more precision.\n",
    "        \"\"\"\n",
    "        z = [x1_0, x1dot_0, x2_0, x2dot_0, y1_0, y1dot_0, y2_0, y2dot_0] \n",
    "        solution = solve_ivp(self.dz_dt, (t_pts[0], t_pts[-1]), \n",
    "                             z, t_eval=t_pts, \n",
    "                             atol=abserr, rtol=relerr)\n",
    "        x1, x1dot, x2, x2dot, y1, y1dot, y2, y2dot  = solution.y\n",
    "\n",
    "        return x1, x1dot, x2, x2dot, y1, y1dot, y2, y2dot"
   ]
  },
  {
   "cell_type": "markdown",
   "metadata": {},
   "source": [
    "### Set up Generic Plotting Function"
   ]
  },
  {
   "cell_type": "code",
   "execution_count": 3,
   "metadata": {},
   "outputs": [],
   "source": [
    "def plot_y_vs_x(x, y, axis_labels=None, label=None, title=None, \n",
    "                color=None, linestyle=None, semilogy=False, loglog=False,\n",
    "                ax=None):\n",
    "    \"\"\"\n",
    "    Generic plotting function: return a figure axis with a plot of y vs. x,\n",
    "    with line color and style, title, axis labels, and line label\n",
    "    \"\"\"\n",
    "    if ax is None:        # if the axis object doesn't exist, make one\n",
    "        ax = plt.gca()\n",
    "\n",
    "    if (semilogy):\n",
    "        line, = ax.semilogy(x, y, label=label, \n",
    "                            color=color, linestyle=linestyle)\n",
    "    elif (loglog):\n",
    "        line, = ax.loglog(x, y, label=label, \n",
    "                          color=color, linestyle=linestyle)\n",
    "    else:\n",
    "        line, = ax.plot(x, y, label=label, \n",
    "                    color=color, linestyle=linestyle)\n",
    "\n",
    "    if label is not None:    # if a label if passed, show the legend\n",
    "        ax.legend()\n",
    "    if title is not None:    # set a title if one if passed\n",
    "        ax.set_title(title)\n",
    "    if axis_labels is not None:  # set x-axis and y-axis labels if passed  \n",
    "        ax.set_xlabel(axis_labels[0])\n",
    "        ax.set_ylabel(axis_labels[1])\n",
    "\n",
    "    return ax, line"
   ]
  },
  {
   "cell_type": "code",
   "execution_count": 4,
   "metadata": {},
   "outputs": [],
   "source": [
    "def start_stop_indices(t_pts, plot_start, plot_stop):\n",
    "    start_index = (np.fabs(t_pts-plot_start)).argmin()  # index in t_pts array \n",
    "    stop_index = (np.fabs(t_pts-plot_stop)).argmin()  # index in t_pts array \n",
    "    return start_index, stop_index"
   ]
  },
  {
   "cell_type": "code",
   "execution_count": 5,
   "metadata": {},
   "outputs": [],
   "source": [
    "# Labels for individual plot axes\n",
    "x_vs_y_labels = ('x', 'y')\n",
    "\n",
    "# Common plotting time (generate the full time then use slices)\n",
    "t_start = 0.\n",
    "t_end = 50.\n",
    "delta_t = 0.001\n",
    "\n",
    "t_pts = np.arange(t_start, t_end+delta_t, delta_t)  \n",
    "\n",
    "G  = 1.0\n",
    "m1 = 1.0\n",
    "m2 = 1.0\n",
    "\n",
    "# Instantiate an orbit\n",
    "o1 = Orbit(m1=m1, m2=m2, G=G)\n"
   ]
  },
  {
   "cell_type": "markdown",
   "metadata": {},
   "source": [
    "# Gravitational orbits when both bodies have same mass, keeping the center of mass constant."
   ]
  },
  {
   "cell_type": "code",
   "execution_count": 6,
   "metadata": {},
   "outputs": [
    {
     "data": {
      "image/png": "[encoded data removed]",
      "text/plain": [
       "<Figure size 1080x360 with 1 Axes>"
      ]
     },
     "metadata": {
      "needs_background": "light"
     },
     "output_type": "display_data"
    }
   ],
   "source": [
    "#specify initial condition of first body then calculate behavior of second that keeps CM constant.\n",
    "x1_0 = 0.5 \n",
    "y1_0 = 0.\n",
    "\n",
    "x2_0 = -m1 / m2 * x1_0\n",
    "y2_0 = -m1 / m2 * y1_0 \n",
    "\n",
    "x1dot_0 = 0 \n",
    "y1dot_0 = 0.2\n",
    "\n",
    "x2dot_0 = -m1 / m2 * x1dot_0 \n",
    "y2dot_0 = -m1 / m2 * y1dot_0\n",
    "\n",
    "x1, x1dot, x2, x2dot, y1, y1dot, y2, y2dot = o1.solve_ode(t_pts, x1_0, x1dot_0, x2_0, x2dot_0, y1_0, y1dot_0, y2_0, y2dot_0)\n",
    "\n",
    "# Plot the orbits\n",
    "fig = plt.figure(figsize=(15,5))\n",
    "ax_a = fig.add_subplot(1,1,1)\n",
    "overall_title = 'Two Body Gravitational Orbit - Same masses'\n",
    "fig.suptitle(overall_title, va='baseline')\n",
    "    \n",
    "start, stop = start_stop_indices(t_pts, t_start, t_end)    \n",
    "plot_y_vs_x(x1[start : stop], y1[start : stop],\n",
    "            axis_labels=x_vs_y_labels, \n",
    "            color='blue',\n",
    "            label='m1', \n",
    "            ax=ax_a)    \n",
    "plot_y_vs_x(x2[start : stop], y2[start : stop],\n",
    "            color='red',\n",
    "            label='m2',\n",
    "            ax=ax_a) \n",
    "ax_a.set_aspect(1) # shows ratio between x and y without resizing.\n",
    "\n",
    "fig.tight_layout()\n",
    "fig.savefig('orbit.png', bbox_inches='tight')  \n"
   ]
  },
  {
   "cell_type": "markdown",
   "metadata": {},
   "source": [
    "## Now Show orbit with different starting conditions"
   ]
  },
  {
   "cell_type": "code",
   "execution_count": 7,
   "metadata": {},
   "outputs": [
    {
     "data": {
      "image/png": "[encoded data removed]",
      "text/plain": [
       "<Figure size 1080x360 with 1 Axes>"
      ]
     },
     "metadata": {
      "needs_background": "light"
     },
     "output_type": "display_data"
    }
   ],
   "source": [
    "\n",
    "G  = 1.0\n",
    "m1 = 8.0\n",
    "m2 = 1.0\n",
    "\n",
    "# Instantiate an orbit\n",
    "o2 = Orbit(m1=m1, m2=m2, G=G)\n",
    "\n",
    "x1_0 = 0.05 \n",
    "y1_0 = 0.\n",
    "\n",
    "x2_0 = -m1 / m2 * x1_0\n",
    "y2_0 = -m1 / m2 * y1_0 \n",
    "\n",
    "x1dot_0 = 0 \n",
    "y1dot_0 = 0.2\n",
    "\n",
    "x2dot_0 = -m1 / m2 * x1dot_0 \n",
    "y2dot_0 = -m1 / m2 * y1dot_0\n",
    "\n",
    "x1, x1dot, x2, x2dot, y1, y1dot, y2, y2dot = o2.solve_ode(t_pts, x1_0, x1dot_0, x2_0, x2dot_0, y1_0, y1dot_0, y2_0, y2dot_0)\n",
    "\n",
    "# Plot the orbits\n",
    "fig = plt.figure(figsize=(15,5))\n",
    "ax_a = fig.add_subplot(1,1,1)\n",
    "overall_title = 'Two Body Gravitational Orbit - different masses'\n",
    "fig.suptitle(overall_title, va='baseline')\n",
    "    \n",
    "start, stop = start_stop_indices(t_pts, t_start, t_end)    \n",
    "plot_y_vs_x(x1[start : stop], y1[start : stop],\n",
    "            axis_labels=x_vs_y_labels, \n",
    "            color='blue',\n",
    "            label='m1', \n",
    "            ax=ax_a)    \n",
    "plot_y_vs_x(x2[start : stop], y2[start : stop],\n",
    "            color='red',\n",
    "            label='m2',\n",
    "            ax=ax_a) \n",
    "ax_a.set_aspect(1) # shows ratio between x and y without resizing.\n",
    "\n",
    "fig.tight_layout()\n",
    "fig.savefig('orbitDifInitCond.png', bbox_inches='tight')  "
   ]
  }
 ],
 "metadata": {
  "kernelspec": {
   "display_name": "Python 3",
   "language": "python",
   "name": "python3"
  },
  "language_info": {
   "codemirror_mode": {
    "name": "ipython",
    "version": 3
   },
   "file_extension": ".py",
   "mimetype": "text/x-python",
   "name": "python",
   "nbconvert_exporter": "python",
   "pygments_lexer": "ipython3",
   "version": "3.7.0"
  }
 },
 "nbformat": 4,
 "nbformat_minor": 2
}
